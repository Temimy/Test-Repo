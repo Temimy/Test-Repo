{
 "cells": [
  {
   "cell_type": "markdown",
   "metadata": {},
   "source": [
    "# My Jupyter Notebook on IBM Watson Studio"
   ]
  },
  {
   "cell_type": "markdown",
   "metadata": {},
   "source": [
    "**Dr. Alaa Temimy**\n",
    "\n",
    "I'm working to be a Certified Data Scientist"
   ]
  },
  {
   "cell_type": "markdown",
   "metadata": {},
   "source": [
    "-----\n",
    "*I am interested in data science because it's the sexiest job of the 21th century*\n",
    "\n",
    "-----"
   ]
  },
  {
   "cell_type": "markdown",
   "metadata": {},
   "source": [
    "### Calculate the mass index (Weight / Height)"
   ]
  },
  {
   "cell_type": "code",
   "execution_count": 10,
   "metadata": {},
   "outputs": [
    {
     "name": "stdout",
     "output_type": "stream",
     "text": [
      "mass index = 0.5  Kg/cm\n"
     ]
    }
   ],
   "source": [
    "Weight = 90 # in Kg\n",
    "Height = 180 # in cm\n",
    "\n",
    "mass_index = Weight / Height\n",
    "print('mass index =',mass_index, ' Kg/cm')"
   ]
  },
  {
   "cell_type": "markdown",
   "metadata": {},
   "source": [
    "\n",
    "\n",
    "### 1) Horizontal Rule\n",
    "\n",
    "---------\n",
    "\n",
    "\n",
    "\n",
    "### 2) Bulleted list\n",
    "* One\n",
    "* Two\n",
    "* Three\n",
    "\n",
    "\n",
    "\n",
    "### 3) Numbered list\n",
    "1. One\n",
    "2. Two\n",
    "3. Three\n",
    "\n",
    "\n",
    "\n",
    "### 4) Table\n",
    "\n",
    "| Col1 | col2 | col3  |\n",
    "| ---- |------| ------|\n",
    "|   1  |  2   |   3   |\n",
    "|   4  |  5   |   6   |\n",
    "|   7  |  8   |   9   |\n",
    "\n",
    "\n",
    "### 5) Hyperlink\n",
    "https://www.IBM.com\n",
    "\n",
    "\n",
    "### 6) Code/syntax highlighting\n",
    "Dr.  `Temimy` has `4` childs\n",
    "\n",
    "\n",
    "### 7) Blocked quotes\n",
    "> Well come to Data Science world\n",
    "\n",
    "\n",
    "\n",
    "\n",
    "\n",
    "### 8) Strikethrough\n",
    " ~~No need any more~~\n",
    "\n"
   ]
  },
  {
   "cell_type": "code",
   "execution_count": null,
   "metadata": {},
   "outputs": [],
   "source": []
  }
 ],
 "metadata": {
  "kernelspec": {
   "display_name": "Python 3.9",
   "language": "python",
   "name": "python3"
  },
  "language_info": {
   "codemirror_mode": {
    "name": "ipython",
    "version": 3
   },
   "file_extension": ".py",
   "mimetype": "text/x-python",
   "name": "python",
   "nbconvert_exporter": "python",
   "pygments_lexer": "ipython3",
   "version": "3.9.12"
  }
 },
 "nbformat": 4,
 "nbformat_minor": 1
}

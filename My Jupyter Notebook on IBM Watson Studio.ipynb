{
 "cells": [
  {
   "cell_type": "markdown",
   "id": "a7e784ec-8e66-49d0-8f68-87011ab45860",
   "metadata": {},
   "source": [
    "# My Jupyter Notebook on IBM Watson Studio"
   ]
  },
  {
   "cell_type": "markdown",
   "id": "f8af2e88-7454-40ab-a4a8-7085f180a667",
   "metadata": {},
   "source": [
    "**Dr. Alaa Temimy**\n",
    "\n",
    "Certified Data Scientist"
   ]
  },
  {
   "cell_type": "markdown",
   "id": "ea32bbb0-dec2-4bec-9f40-268c852a57f3",
   "metadata": {},
   "source": [
    "-----\n",
    "*I am interested in data science because it's the sexiest job of the 21th century*\n",
    "\n",
    "-----"
   ]
  },
  {
   "cell_type": "markdown",
   "id": "87eb30f5-338a-433d-ae20-f787c4e78377",
   "metadata": {},
   "source": [
    "### Calculate the mass index (Weight / Height)"
   ]
  },
  {
   "cell_type": "code",
   "execution_count": 4,
   "id": "cee7ece0-010d-434d-8ff7-88eb65c88729",
   "metadata": {},
   "outputs": [
    {
     "data": {
      "text/plain": [
       "0.5277777777777778"
      ]
     },
     "execution_count": 4,
     "metadata": {},
     "output_type": "execute_result"
    }
   ],
   "source": [
    "Weight = 95 # in Kg\n",
    "Height = 180 # in cm\n",
    "\n",
    "mass_index = Weight / Height\n",
    "mass_index"
   ]
  },
  {
   "cell_type": "markdown",
   "id": "a322fc1d-e212-4468-80e5-a4cfebb634fd",
   "metadata": {},
   "source": [
    "\n",
    "\n",
    "### 1) Horizontal Rule\n",
    "\n",
    "---------\n",
    "\n",
    "\n",
    "\n",
    "### 2) Bulleted list\n",
    "* One\n",
    "* Two\n",
    "* Three\n",
    "\n",
    "\n",
    "\n",
    "### 3) Numbered list\n",
    "1. One\n",
    "2. Two\n",
    "3. Three\n",
    "\n",
    "\n",
    "\n",
    "### 4) Tables\n",
    "\n",
    "| Col1 | col2 | col3  |\n",
    "| ---- |------| ------|\n",
    "|   1  |  2   |   3   |\n",
    "|   4  |  5   |   6   |\n",
    "|   7  |  8   |   9   |\n",
    "\n",
    "\n",
    "### 5) Hyperlink\n",
    "[I'm an inline-style link with title (hover to see it , click to go)](https://www.IBM.com \"IBM's Homepage\")\n",
    "\n",
    "\n",
    "### 6) Code/syntax highlighting\n",
    "Inline `code` has `back-ticks around` it.\n",
    "\n",
    "\n",
    "### 7) Blocked quotes\n",
    "> Blockquotes are very handy in email to emulate reply text.\n",
    "> This line is part of the same quote.\n",
    "\n",
    "Quote break.\n",
    "\n",
    "> This is a very long line that will still be quoted properly when it wraps. Oh boy let's keep writing to make sure this is long enough to actually wrap for everyone.\n",
    "\n",
    "\n",
    "### 8) Strikethrough\n",
    " ~~Scratch this to see me.~~\n",
    "\n"
   ]
  },
  {
   "cell_type": "code",
   "execution_count": null,
   "id": "2ba8da92-28fe-4906-959b-b00956b34a2a",
   "metadata": {},
   "outputs": [],
   "source": []
  }
 ],
 "metadata": {
  "kernelspec": {
   "display_name": "Python",
   "language": "python",
   "name": "conda-env-python-py"
  },
  "language_info": {
   "codemirror_mode": {
    "name": "ipython",
    "version": 3
   },
   "file_extension": ".py",
   "mimetype": "text/x-python",
   "name": "python",
   "nbconvert_exporter": "python",
   "pygments_lexer": "ipython3",
   "version": "3.7.12"
  }
 },
 "nbformat": 4,
 "nbformat_minor": 5
}
